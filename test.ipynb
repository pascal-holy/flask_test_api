{
 "cells": [
  {
   "cell_type": "code",
   "execution_count": 27,
   "metadata": {},
   "outputs": [],
   "source": [
    "import pandas as pd\n",
    "import numpy\n",
    "import dill\n",
    "import sqlite3\n",
    "import redis"
   ]
  },
  {
   "cell_type": "code",
   "execution_count": 28,
   "metadata": {},
   "outputs": [
    {
     "name": "stdout",
     "output_type": "stream",
     "text": [
      "/Users/pascal/Documents/git/flask_test_api\r\n"
     ]
    }
   ],
   "source": [
    "!pwd"
   ]
  },
  {
   "cell_type": "markdown",
   "metadata": {},
   "source": [
    "1. Max number of items in one order: if a customer has more than one order, take  the one with more items.\n",
    "2. Max revenue in one order: if a customer has more than one order, take the one  with largest revenue.  \n",
    "3. Total revenue of a customer: including all orders \n",
    "4. Total number of orders   \n",
    "5. Days since last order: number of days from the last order until 2017-10-17 \n",
    "6. The longest interval between two consecutive orders (in unit of days). If a  customer has only one order, use the formula below\n",
    "\n",
    "$Avg($longest_interval$) + $days_since_last_order\n"
   ]
  },
  {
   "cell_type": "code",
   "execution_count": 29,
   "metadata": {},
   "outputs": [],
   "source": [
    "dill_file = open('model.dill', 'rb')\n",
    "model = dill.load(dill_file)"
   ]
  },
  {
   "cell_type": "code",
   "execution_count": 30,
   "metadata": {},
   "outputs": [
    {
     "data": {
      "text/plain": [
       "array([ 244.9,   89.9])"
      ]
     },
     "execution_count": 30,
     "metadata": {},
     "output_type": "execute_result"
    }
   ],
   "source": [
    "model.predict(numpy.array([[3, 92.6, 109.3, 2, 12, 26],[2, 10.4, 43.5, 3, 26, 5]]))"
   ]
  },
  {
   "cell_type": "code",
   "execution_count": 31,
   "metadata": {
    "collapsed": true
   },
   "outputs": [],
   "source": [
    "def days_since_last_order(d):\n",
    "    timedelta = pd.to_datetime('2017-10-17') - d.max()\n",
    "    return timedelta.days"
   ]
  },
  {
   "cell_type": "code",
   "execution_count": 32,
   "metadata": {},
   "outputs": [
    {
     "data": {
      "text/plain": [
       "Index(['customer_id', 'order_id', 'order_item_id', 'num_items', 'revenue',\n",
       "       'created_at_date'],\n",
       "      dtype='object')"
      ]
     },
     "execution_count": 32,
     "metadata": {},
     "output_type": "execute_result"
    }
   ],
   "source": [
    "df = pd.read_csv('orders.csv', parse_dates=['created_at_date'])\n",
    "df.columns"
   ]
  },
  {
   "cell_type": "code",
   "execution_count": 33,
   "metadata": {
    "collapsed": true
   },
   "outputs": [],
   "source": [
    "f_o = {\n",
    "       'revenue': ['sum'], \n",
    "       'order_item_id': ['nunique'], \n",
    "       'created_at_date': ['max']\n",
    "      }\n",
    "f_c = {\n",
    "       ('order_item_id','nunique'): ['max'], \n",
    "       ('revenue', 'sum'): ['max','sum'], \n",
    "       ('order_id', ''): ['nunique'], \n",
    "       ('created_at_date', 'max'): [days_since_last_order]\n",
    "      }"
   ]
  },
  {
   "cell_type": "code",
   "execution_count": 34,
   "metadata": {},
   "outputs": [],
   "source": [
    "res_o = df.groupby(['customer_id', 'order_id']).agg(f_o).reset_index()\n",
    "res_c = res_o.groupby('customer_id').agg(f_c)"
   ]
  },
  {
   "cell_type": "code",
   "execution_count": 35,
   "metadata": {
    "collapsed": true
   },
   "outputs": [],
   "source": [
    "sorted_o = df.sort_values(['customer_id', 'created_at_date']).groupby(['customer_id', 'order_id'])['created_at_date'].max()\n",
    "interval_c = sorted_o.groupby('customer_id').diff().groupby('customer_id').max().dt.days.rename(('created_at_date', 'diff', 'interval'))"
   ]
  },
  {
   "cell_type": "code",
   "execution_count": 36,
   "metadata": {
    "collapsed": true
   },
   "outputs": [],
   "source": [
    "res_c_i = res_c.merge(interval_c.to_frame(), left_index=True, right_index=True)"
   ]
  },
  {
   "cell_type": "code",
   "execution_count": 37,
   "metadata": {
    "collapsed": true
   },
   "outputs": [],
   "source": [
    "avg_longest_interval = interval_c.mean()\n",
    "\n",
    "res_c_i.iloc[:, -1] = res_c_i.iloc[:,-1].fillna(avg_longest_interval + res_c_i.iloc[:, -2])"
   ]
  },
  {
   "cell_type": "code",
   "execution_count": 38,
   "metadata": {
    "collapsed": true
   },
   "outputs": [],
   "source": [
    "predictions = pd.Series.from_array(model.predict(res_c_i.as_matrix()))\n",
    "\n",
    "res = res_c_i\n",
    "\n",
    "res['predicted_clv'] = model.predict(res_c_i.as_matrix())"
   ]
  },
  {
   "cell_type": "code",
   "execution_count": 39,
   "metadata": {
    "collapsed": true
   },
   "outputs": [],
   "source": [
    "res['predicted_clv'].to_csv('result.csv', sep=',')"
   ]
  },
  {
   "cell_type": "code",
   "execution_count": 40,
   "metadata": {},
   "outputs": [
    {
     "name": "stdout",
     "output_type": "stream",
     "text": [
      "('000011265b8a3727c4cc77b494134aca', 133.72534850355342)\n",
      "('000079318ce4bdc1897a9c711e107b55', 128.90534850355343)\n",
      "('0000e349e3d5eb96a2dc1939beebf9e4', 63.34534850355344)\n",
      "('0001159afe8b9309aeb95fa17886d688', 94.26534850355344)\n",
      "('000146a1e6decca6773a52afd2ed0255', 139.39999999999998)\n",
      "('0001aa41356a707949e8a715947ff85c', 159.34534850355345)\n",
      "('0001b3166c1bcb11f331e6676f7863a9', 113.28534850355344)\n",
      "('0001cf68347245f00fe71fd9d677e9df', 66.66534850355343)\n",
      "('00022da3f8257cbda32247d4e02c4b6d', 143.10534850355344)\n",
      "('0002ec88abff6d01da3b9db674cd8868', 126.46534850355343)\n"
     ]
    }
   ],
   "source": [
    "con = sqlite3.connect('data.sqlite')\n",
    "res['predicted_clv'].to_sql('customers', con, if_exists='replace')\n",
    "cur = con.cursor()\n",
    "for row in cur.execute('SELECT * FROM customers LIMIT 10;'):\n",
    "    print(row)\n",
    "con.commit()\n",
    "con.close()"
   ]
  },
  {
   "cell_type": "code",
   "execution_count": 41,
   "metadata": {
    "collapsed": true
   },
   "outputs": [],
   "source": [
    "r = redis.StrictRedis(host='localhost', port=6379, db=0)"
   ]
  },
  {
   "cell_type": "code",
   "execution_count": 46,
   "metadata": {},
   "outputs": [],
   "source": [
    "for i, value in res['predicted_clv'].iteritems():\n",
    "  r.set(i, value)"
   ]
  },
  {
   "cell_type": "code",
   "execution_count": 50,
   "metadata": {},
   "outputs": [
    {
     "data": {
      "text/plain": [
       "b'66.665348503553432'"
      ]
     },
     "execution_count": 50,
     "metadata": {},
     "output_type": "execute_result"
    }
   ],
   "source": [
    "r.get('0001cf68347245f00fe71fd9d677e9df')"
   ]
  },
  {
   "cell_type": "code",
   "execution_count": null,
   "metadata": {
    "collapsed": true
   },
   "outputs": [],
   "source": []
  }
 ],
 "metadata": {
  "kernelspec": {
   "display_name": "Python 3",
   "language": "python",
   "name": "python3"
  },
  "language_info": {
   "codemirror_mode": {
    "name": "ipython",
    "version": 3
   },
   "file_extension": ".py",
   "mimetype": "text/x-python",
   "name": "python",
   "nbconvert_exporter": "python",
   "pygments_lexer": "ipython3",
   "version": "3.6.3"
  }
 },
 "nbformat": 4,
 "nbformat_minor": 1
}
